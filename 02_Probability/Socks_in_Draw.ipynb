import numpy as np
import matplotlib.pyplot as plt

# Initialize variables
yes = 0
trials = 10000
x_data = []
y_data = []

# Array of socks
socks = ['b'] * 4 + ['g'] * 5 + ['h'] * 3

# Simulation loop
for i in range(1, trials + 1):
    t1, t2 = np.random.choice(socks, size=2, replace=False)
    if t1 == t2:
        yes += 1
    
    # Store data periodically for plotting
    if i % 100 == 0:
        y_data.append(float(yes) / float(i))
        x_data.append(i)

# Plotting results
plt.plot(x_data, y_data)
plt.xlabel('Number of Trials')
plt.ylabel('Probability')
plt.title('Probability of Picking Two Socks of the Same Color')
plt.show()
