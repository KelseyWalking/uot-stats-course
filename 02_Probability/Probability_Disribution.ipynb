import numpy as np
%matplotlib inline
import matplotlib.pyplot as plt
import scipy.stats as stats

roll12=[]

for i in range(1000):
    roll1=np.random.choice(dice_rolls)
    roll2=np.random.choice(dice_rolls)
    roll12.append(roll1+roll2)

plt.hist(roll12,bins=11)
plt.xlabel("Number")
plt.ylabel("Frequency")
plt.show()   
