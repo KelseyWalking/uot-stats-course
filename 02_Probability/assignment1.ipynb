{
 "cells": [
  {
   "cell_type": "markdown",
   "metadata": {},
   "source": [
    "## Assignment 1 \n",
    "\n",
    "This assignment is based on the video discussed in module 1.\n",
    "\n",
    "John Rauser ( 2014). Statistics Without the Agonizing Pain. Strata Hadoop 2014. Retrieved from https://www.youtube.com/watch?v=5Dnw46eC-0o\n",
    "\n",
    "(Source: https://www.youtube.com/watch?v=5Dnw46eC-0o )\n",
    "\n",
    "\n",
    "\n",
    "\n",
    " \n",
    "  \n",
    " "
   ]
  },
  {
   "cell_type": "markdown",
   "metadata": {},
   "source": [
    "## Learning outcomes"
   ]
  },
  {
   "cell_type": "markdown",
   "metadata": {},
   "source": [
    "- Use code to work with data\n",
    "- Calculate basic statistical measures \n",
    "- Implement a data simulation by using resampling \n"
   ]
  },
  {
   "cell_type": "markdown",
   "metadata": {},
   "source": [
    "**Question**\n",
    "\n",
    "1. Using the dataset from the video ( _mosquitos_data.csv_) in the folder, write Python code to:\n",
    "\n",
    "    - Create side-by-side boxplots for the number of mosquitos in each group ( _beer vs water) \n",
    "    - What does the graph reveal about the data for both groups?  Is there an association between beer       consumption and attractiveness to mosquitos.\n",
    "    - Calculate basic statistics measures for each group: Mean, median, standard deviation and explain the numbers.\n",
    "\n",
    "2. Write code to implement the data simulation demonstrated in the above mentioned video.  Calculate the probability of obtaining the experiment outcome assuming no association between beer consumption."
   ]
  },
  {
   "cell_type": "markdown",
   "metadata": {},
   "source": [
    "## Hints\n",
    "\n",
    "- Use pandas, matplotlib, or seaborn to plot boxplots in Python. \n",
    "- Label the graphs wherever applicable e.g, title, legend, units etc.\n",
    "\n",
    "\n",
    "\n"
   ]
  },
  {
   "cell_type": "code",
   "execution_count": 1,
   "metadata": {},
   "outputs": [],
   "source": [
    "#your work here\n",
    "import pandas as pd\n",
    "import numpy as np\n",
    "import matplotlib.pyplot as plt"
   ]
  },
  {
   "cell_type": "code",
   "execution_count": 2,
   "metadata": {},
   "outputs": [],
   "source": [
    "url = 'mosquitos_data.csv'\n",
    "\n",
    "testdata = pd.read_csv(url)"
   ]
  },
  {
   "cell_type": "code",
   "execution_count": 3,
   "metadata": {},
   "outputs": [
    {
     "data": {
      "text/plain": [
       "array([27, 20, 21, 26, 27, 31, 24, 21, 20, 19, 23, 24, 28, 19, 24, 29, 18,\n",
       "       20, 17, 31, 20, 25, 28, 21, 27], dtype=int64)"
      ]
     },
     "execution_count": 3,
     "metadata": {},
     "output_type": "execute_result"
    }
   ],
   "source": [
    "Beer=testdata.Response.loc[testdata['Treatment']=='Beer'].values\n",
    "Beer"
   ]
  },
  {
   "cell_type": "code",
   "execution_count": 4,
   "metadata": {},
   "outputs": [
    {
     "data": {
      "text/plain": [
       "array([21, 22, 15, 12, 21, 16, 19, 15, 22, 24, 19, 23, 13, 22, 20, 24, 18,\n",
       "       20], dtype=int64)"
      ]
     },
     "execution_count": 4,
     "metadata": {},
     "output_type": "execute_result"
    }
   ],
   "source": [
    "Water=testdata.Response.loc[testdata['Treatment']=='Water'].values\n",
    "Water"
   ]
  },
  {
   "cell_type": "code",
   "execution_count": 5,
   "metadata": {},
   "outputs": [
    {
     "data": {
      "image/png": "[encoded data removed]",
      "text/plain": [
       "<Figure size 640x480 with 2 Axes>"
      ]
     },
     "metadata": {},
     "output_type": "display_data"
    }
   ],
   "source": [
    "# Using subplot()\n",
    "fig = plt.figure()\n",
    "\n",
    "ax1 = fig.add_subplot(121) # (rows,col,index)\n",
    "ax1.boxplot(Beer)\n",
    "ax1.set_title('Beer Treatment')\n",
    "\n",
    "\n",
    "ax2 = fig.add_subplot(122)\n",
    "ax2.boxplot(Water)\n",
    "ax2.set_title('Water Treatment')\n",
    "\n",
    "\n",
    "\n",
    "fig.suptitle(\"mosquitos in each group\")\n",
    "fig.tight_layout()\n",
    "fig.subplots_adjust(top=0.85)\n",
    "# Show all subplots together\n",
    "plt.show()"
   ]
  },
  {
   "cell_type": "code",
   "execution_count": 12,
   "metadata": {},
   "outputs": [
    {
     "data": {
      "text/plain": [
       "array([15, 20, 15, 26, 19, 29, 20, 18, 24, 18, 23, 27, 20, 17, 31, 21, 24,\n",
       "       20, 19, 27, 21, 20, 13, 24, 28, 20, 28, 12, 25, 21, 22, 19, 22, 24,\n",
       "       21, 31, 24, 21, 16, 22, 19, 27, 23], dtype=int64)"
      ]
     },
     "execution_count": 12,
     "metadata": {},
     "output_type": "execute_result"
    }
   ],
   "source": [
    "'''\n",
    "It may be the 'shuffle()' method from 'numpy.random'. For two arrays 'array1' of length 25 and 'array2' of length 18 we may:\n",
    "1. concatenate them to form a combined array\n",
    "2. shuffle combined array: numpy.random.shuffle(combined)\n",
    "3. split the shuffled array into two arrays of length 25 and 18. Now we have a new 'experiment'. Calculate the mean for each array and take the difference.\n",
    "4. repeat approximately 10,000 times and count number of simulations with difference >= 4.4.\n",
    "'''\n",
    "combined=testdata.Response.values\n",
    "combined\n"
   ]
  },
  {
   "cell_type": "code",
   "execution_count": 42,
   "metadata": {},
   "outputs": [
    {
     "name": "stdout",
     "output_type": "stream",
     "text": [
      "Number of values greater than 4.4: 5\n",
      "% of values greater than or equal to 4.4: 0.05%\n"
     ]
    }
   ],
   "source": [
    "# Initialize variables\n",
    "\n",
    "trials = 10000\n",
    "repeat = []\n",
    "combined=testdata.Response.values\n",
    "\n",
    "# Simulation loop\n",
    "for i in range(1, trials + 1):\n",
    "    np.random.shuffle(combined)\n",
    "    array_25 = combined[:25]\n",
    "    array_18 = combined[25:]\n",
    "    difference = array_25.mean() - array_18.mean()\n",
    "    rounded_difference = round(difference, 1)\n",
    "    repeat.append(rounded_difference)\n",
    "repeat_array=np.array(repeat)\n",
    "difference_bigger=np.sum(repeat_array>=4.4)\n",
    "change_bigger=difference_bigger/trials\n",
    "percent=difference_bigger/trials*100\n",
    "print(\"Number of values greater than 4.4:\", difference_bigger)\n",
    "print(\"% of values greater than or equal to 4.4: {:.2f}%\".format(percent))\n"
   ]
  },
  {
   "cell_type": "code",
   "execution_count": 41,
   "metadata": {},
   "outputs": [
    {
     "data": {
      "image/png": "[encoded data removed]",
      "text/plain": [
       "<Figure size 640x480 with 1 Axes>"
      ]
     },
     "metadata": {},
     "output_type": "display_data"
    }
   ],
   "source": [
    "# Plotting results\n",
    "plt.hist(repeat,bins=100)\n",
    "plt.xlabel(\"Difference in Means\")\n",
    "plt.ylabel(\"Frequency\")\n",
    "plt.title(\"Histogram of Mean Differences\")\n",
    "plt.show()"
   ]
  },
  {
   "cell_type": "code",
   "execution_count": null,
   "metadata": {},
   "outputs": [],
   "source": []
  }
 ],
 "metadata": {
  "kernelspec": {
   "display_name": "Python 3 (ipykernel)",
   "language": "python",
   "name": "python3"
  },
  "language_info": {
   "codemirror_mode": {
    "name": "ipython",
    "version": 3
   },
   "file_extension": ".py",
   "mimetype": "text/x-python",
   "name": "python",
   "nbconvert_exporter": "python",
   "pygments_lexer": "ipython3",
   "version": "3.12.7"
  }
 },
 "nbformat": 4,
 "nbformat_minor": 4
}
