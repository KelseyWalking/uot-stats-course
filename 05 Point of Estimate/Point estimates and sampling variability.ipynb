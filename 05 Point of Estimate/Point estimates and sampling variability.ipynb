{
 "cells": [
  {
   "cell_type": "code",
   "execution_count": 59,
   "id": "4f0de47e-b00d-4491-9ab9-a05a5469d0ce",
   "metadata": {},
   "outputs": [
    {
     "name": "stdout",
     "output_type": "stream",
     "text": [
      "Total entries: 250000000\n",
      "Count of 'support': 219999379\n",
      "Count of 'not': 30000621\n"
     ]
    }
   ],
   "source": [
    "import numpy as np\n",
    "import matplotlib.pyplot as plt\n",
    "import scipy.stats as stats\n",
    "''' 1. Create a set of 250 million entries, where 88% of them are \"support\"\n",
    "# and 12% are \"not\".\n",
    "pop size <- 250000000\n",
    "possible entries <- c(rep(\"support\", 0.88 * pop size), rep(\"not\", 0.12 * pop size))\n",
    "# 2. Sample 1000 entries without replacement.\n",
    "sampled entries <- sample(possible entries, size = 1000)\n",
    "# 3. Compute p-hat: count the number that are \"support\", then divide by\n",
    "# the sample size.\n",
    "sum(sampled entries == \"support\") / 1000\n",
    "'''\n",
    "\n",
    "\n",
    "# Define the total number of entries\n",
    "total_entries = 250_000_000\n",
    "\n",
    "# Calculate the probabilities for \"support\" and \"not\"\n",
    "probabilities = [0.88, 0.12]\n",
    "\n",
    "# Define the possible entries\n",
    "entries = [\"support\", \"not\"]\n",
    "\n",
    "# Generate the dataset with the specified probabilities\n",
    "generated_entries = np.random.choice(entries, size=total_entries, p=probabilities)\n",
    "\n",
    "# Verify the counts of each entry type\n",
    "count_support = np.sum(generated_entries == 'support')\n",
    "count_not = np.sum(generated_entries == 'not')\n",
    "\n",
    "print(f\"Total entries: {len(generated_entries)}\")\n",
    "print(f\"Count of 'support': {count_support}\")\n",
    "print(f\"Count of 'not': {count_not}\")\n"
   ]
  },
  {
   "cell_type": "code",
   "execution_count": 14,
   "id": "e9935f4b-c954-46a7-a4b9-d3a433cb9e2c",
   "metadata": {},
   "outputs": [
    {
     "data": {
      "text/plain": [
       "0.880024584"
      ]
     },
     "execution_count": 14,
     "metadata": {},
     "output_type": "execute_result"
    }
   ],
   "source": [
    "p=count_support/total_entries\n",
    "p"
   ]
  },
  {
   "cell_type": "code",
   "execution_count": 23,
   "id": "1824355c-adbe-40fe-929a-8ccf5e529cde",
   "metadata": {},
   "outputs": [
    {
     "data": {
      "text/plain": [
       "0.874"
      ]
     },
     "execution_count": 23,
     "metadata": {},
     "output_type": "execute_result"
    }
   ],
   "source": [
    "# Sample 1000 entries without replacement\n",
    "sampled_entries = np.random.choice(generated_entries, size=1000, replace=True)\n",
    "# p_hat\n",
    "p_hat= np.sum(sampled_entries == 'support')/1000\n",
    "p_hat"
   ]
  },
  {
   "cell_type": "code",
   "execution_count": null,
   "id": "1622a4b1-f92c-4c8a-b20f-1bca3f2c41ba",
   "metadata": {},
   "outputs": [],
   "source": [
    "# Number of simulations\n",
    "num_simulations = 100\n",
    "\n",
    "# List to store p_hat values\n",
    "p_hat_values = []\n",
    "\n",
    "# Run simulations\n",
    "for _ in range(num_simulations):\n",
    "    # Sample 1000 entries without replacement\n",
    "    sample = np.random.choice(generated_entries, size=100, replace=False)\n",
    "    \n",
    "    # Calculate p_hat (proportion of 'support' in the sample)\n",
    "    p_hat = np.mean(sample == 'support')\n",
    "    \n",
    "    # Store the p_hat value\n",
    "    p_hat_values.append(p_hat)\n",
    "\n",
    "# Convert p_hat_values to a numpy array for easier manipulation\n",
    "p_hat_values = np.array(p_hat_values)\n",
    "\n",
    "# Plot histogram of p_hat values\n",
    "plt.hist(p_hat_values, bins=50, edgecolor='k', alpha=0.7)\n",
    "plt.title('Histogram of p_hat Values')\n",
    "plt.xlabel('p_hat')\n",
    "plt.ylabel('Frequency')\n",
    "plt.show()"
   ]
  },
  {
   "cell_type": "code",
   "execution_count": null,
   "id": "2266246e-1257-4278-99b7-169f8d08a2b6",
   "metadata": {},
   "outputs": [],
   "source": [
    "p_hat_values"
   ]
  },
  {
   "cell_type": "code",
   "execution_count": 26,
   "id": "817b43cb-6c7a-4f16-8a6c-1e0801ba080d",
   "metadata": {},
   "outputs": [
    {
     "data": {
      "text/plain": [
       "0.13693063937629152"
      ]
     },
     "execution_count": 26,
     "metadata": {},
     "output_type": "execute_result"
    }
   ],
   "source": [
    "((0.25*0.75)/10)**(1/2)\n"
   ]
  },
  {
   "cell_type": "code",
   "execution_count": 27,
   "id": "b14278e6-ef1b-4448-a259-cf22ff0800af",
   "metadata": {},
   "outputs": [
    {
     "data": {
      "text/plain": [
       "0.010011543337567888"
      ]
     },
     "execution_count": 27,
     "metadata": {},
     "output_type": "execute_result"
    }
   ],
   "source": [
    "((0.887*(1-0.887))/1000)**(1/2)"
   ]
  },
  {
   "cell_type": "code",
   "execution_count": null,
   "id": "53f6e13a-45ac-4bea-9605-e7068bf39d52",
   "metadata": {},
   "outputs": [],
   "source": [
    "#1. use point of obervation and significent level to calculate interval"
   ]
  },
  {
   "cell_type": "code",
   "execution_count": 33,
   "id": "a0067bd5-e297-4d9f-b541-0f26809c66f0",
   "metadata": {},
   "outputs": [
    {
     "name": "stdout",
     "output_type": "stream",
     "text": [
      "The standard error (SE) is: 0.011901708775845125\n"
     ]
    }
   ],
   "source": [
    "import math\n",
    "from scipy.stats import norm\n",
    "\n",
    "def calculate_se(p_hat, n):\n",
    "    # Ensure that n is not zero to avoid division by zero\n",
    "    if n == 0:\n",
    "        raise ValueError(\"Sample size n must be greater than 0\")\n",
    "    \n",
    "    se = math.sqrt((p_hat * (1 - p_hat)) / n)\n",
    "    return se\n",
    "\n",
    "# Example usage\n",
    "p_hat = 0.82  # Sample proportion\n",
    "n = 1042      # Sample size\n",
    "\n",
    "se = calculate_se(p_hat, n)\n",
    "print(f\"The standard error (SE) is: {se}\")"
   ]
  },
  {
   "cell_type": "code",
   "execution_count": 37,
   "id": "986b67fb-4e95-4116-a51d-347b1df7eaa9",
   "metadata": {},
   "outputs": [
    {
     "data": {
      "text/plain": [
       "(0.8433269205551407, 0.7966730794448592)"
      ]
     },
     "execution_count": 37,
     "metadata": {},
     "output_type": "execute_result"
    }
   ],
   "source": [
    "def calculate_interval(p_hat,z_score, se):    \n",
    "    intervalP = p_hat+z_score*se\n",
    "    intervalN = p_hat-z_score*se\n",
    "    return intervalP, intervalN\n",
    "\n",
    "confidence=0.95\n",
    "#The norm.ppf function from scipy.stats computes the percent point function (inverse of the cumulative distribution function) for a given probability.\n",
    "z_score = norm.ppf(0.5+ confidence / 2)\n",
    "\n",
    "interval=calculate_interval(p_hat,z_score, se)\n",
    "interval"
   ]
  },
  {
   "cell_type": "code",
   "execution_count": 35,
   "id": "ad939551-eef1-45e5-b300-c0bb5f20274f",
   "metadata": {},
   "outputs": [
    {
     "name": "stdout",
     "output_type": "stream",
     "text": [
      "The z-score for a 95.0% confidence level is: 1.959963984540054\n"
     ]
    }
   ],
   "source": [
    "print(f\"The z-score for a {confidence*100}% confidence level is: {z_score}\")"
   ]
  },
  {
   "cell_type": "code",
   "execution_count": 38,
   "id": "a8a9fcf3-a4ae-4aef-942f-964c110a4241",
   "metadata": {},
   "outputs": [
    {
     "data": {
      "text/plain": [
       "(0.877244001646239, 0.818755998353761)"
      ]
     },
     "execution_count": 38,
     "metadata": {},
     "output_type": "execute_result"
    }
   ],
   "source": [
    "# Example usage\n",
    "p_hat = 0.848  # Sample proportion\n",
    "n = 1000      # Sample size\n",
    "confidence=0.99\n",
    "z_score = norm.ppf(0.5+ confidence / 2)\n",
    "se = calculate_se(p_hat, n)\n",
    "interval=calculate_interval(p_hat,z_score, se)\n",
    "interval"
   ]
  },
  {
   "cell_type": "code",
   "execution_count": 43,
   "id": "ebda0073-f2eb-4312-a29a-b02437fa69e0",
   "metadata": {},
   "outputs": [
    {
     "data": {
      "text/plain": [
       "(0.35837922865896776, 0.12162077134103225)"
      ]
     },
     "execution_count": 43,
     "metadata": {},
     "output_type": "execute_result"
    }
   ],
   "source": [
    "#H0=0.33\n",
    "#HA~=0.33\n",
    "#sample_proportion_point_of_estimate = 0.24\n",
    "# Example usage\n",
    "p_hat = 0.24  # point of estimate\n",
    "n=50     # Sample size\n",
    "confidence=0.95\n",
    "z_score = norm.ppf(0.5+ confidence / 2)\n",
    "se = calculate_se(p_hat, n)\n",
    "interval=calculate_interval(p_hat,z_score, se)\n",
    "interval"
   ]
  },
  {
   "cell_type": "code",
   "execution_count": 46,
   "id": "f755eed8-abd5-401b-8e35-9f7646b29ce2",
   "metadata": {},
   "outputs": [
    {
     "data": {
      "text/plain": [
       "(0.22659896236402388, 0.07140103763597609)"
      ]
     },
     "execution_count": 46,
     "metadata": {},
     "output_type": "execute_result"
    }
   ],
   "source": [
    "'''GUIDED PRACTICE 5.23\n",
    "This time we took a larger sample of 228 college-educated adults, 34 (14.9%) selected the correct\n",
    "answer to the question in Guided Practice.\n",
    "Compute a 95% confidence interval for the fraction of college-educated adults who answered the\n",
    "children-in-2100 question correctly, and evaluate the hypotheses in Guided Practice.'''\n",
    "#H0=0.33\n",
    "#HA~=0.33\n",
    "#sample_proportion_point_of_estimate = 0.149\n",
    "# Example usage\n",
    "p_hat = 0.149  # point of estimate\n",
    "n=228     # Sample size\n",
    "confidence=0.999\n",
    "z_score = norm.ppf(0.5+ confidence / 2)\n",
    "se = calculate_se(p_hat, n)\n",
    "interval=calculate_interval(p_hat,z_score, se)\n",
    "interval"
   ]
  },
  {
   "cell_type": "code",
   "execution_count": null,
   "id": "807282ac-da7b-402d-aa39-f634782ee84f",
   "metadata": {},
   "outputs": [],
   "source": [
    "#2.COMPARE THE P-VALUE TO α TO EVALUATE H0"
   ]
  },
  {
   "cell_type": "code",
   "execution_count": 57,
   "id": "0667b325-df3c-4ef2-be89-7e7f5b7cc7c6",
   "metadata": {},
   "outputs": [
    {
     "data": {
      "text/plain": [
       "(3.847492690051539, 0.015594571538795133, 0.0001193328366213553)"
      ]
     },
     "execution_count": 57,
     "metadata": {},
     "output_type": "execute_result"
    }
   ],
   "source": [
    "'''\n",
    " simple random sample of 1028 US adults in March 2013 show that 56% support nuclear arms\n",
    "reduction. Does this provide convincing evidence that a majority of Americans supported nuclear\n",
    "arms reduction at the 5% significance level?\n",
    "'''\n",
    "\n",
    "#H0=50%\n",
    "#Ha>50%\n",
    "\n",
    "p_hat = 0.5  # population mean\n",
    "x=0.56\n",
    "n=1028     # Sample size\n",
    "alpha=0.05\n",
    "se = calculate_se(p_hat, n)\n",
    "z_score =( x-p_hat)/se\n",
    "#calculate the p-value by using the cumulative distribution function (norm.cdf).\n",
    "p_value =2* (1 - stats.norm.cdf(z_score))\n",
    "z_score,se,p_value\n"
   ]
  },
  {
   "cell_type": "code",
   "execution_count": 64,
   "id": "8808408e-bdab-463c-b774-36a9a1db3421",
   "metadata": {},
   "outputs": [
    {
     "data": {
      "text/plain": [
       "((0.7312512731429909, 0.668748726857009),\n",
       " 0.015944820103582016,\n",
       " 1.959963984540054)"
      ]
     },
     "execution_count": 64,
     "metadata": {},
     "output_type": "execute_result"
    }
   ],
   "source": [
    "'''\n",
    " simple random sample of 826 payday loan borrowers was surveyed to better understand their\n",
    "interests around regulation and costs. 70% of the responses supported new regulations on payday\n",
    "lenders.\n",
    "\n",
    "Estimate the standard error of ˆp = 0.70. Because p is unknown and the standard error is for a\n",
    "confidence interval, use ˆp in place of p in the formula.1\n",
    "\n",
    "Construct a 95% confidence interval for p, the proportion of payday borrowers who support increased\n",
    "regulation for payday lenders.\n",
    "'''\n",
    "\n",
    "p_hat = 0.7  # sample mean\n",
    "\n",
    "n=826     # Sample size\n",
    "\n",
    "se = calculate_se(p_hat, n)\n",
    "confidence=0.95\n",
    "#The norm.ppf function from scipy.stats computes the percent point function (inverse of the cumulative distribution function) for a given probability.\n",
    "z_score = norm.ppf(0.5+ confidence / 2)\n",
    "interval=calculate_interval(p_hat,z_score, se)\n",
    "interval,se, z_score"
   ]
  },
  {
   "cell_type": "code",
   "execution_count": 67,
   "id": "4a15b11a-ba3d-4a1b-b94b-05c04b3c19b4",
   "metadata": {},
   "outputs": [
    {
     "data": {
      "text/plain": [
       "(0.017397225015980525, 0.5748043145279971, 0.5654236484645514)"
      ]
     },
     "execution_count": 67,
     "metadata": {},
     "output_type": "execute_result"
    }
   ],
   "source": [
    "'''Do payday loan borrowers support a regulation that would require lenders to pull their credit report\n",
    "and evaluate their debt payments? From a random sample of 826 borrowers, 51% said they would\n",
    "support such a regulation.  \n",
    "evaluate whether the poll provides\n",
    "convincing evidence that a majority of payday loan borrowers support a new regulation that would\n",
    "require lenders to pull credit reports and evaluate debt payments.\n",
    "'''\n",
    "\n",
    "\n",
    "#H0=50%\n",
    "#Ha>50%\n",
    "p_hat = 0.5  # p0 mean\n",
    "x=0.51\n",
    "n=826     # Sample size\n",
    "alpha=0.05\n",
    "se = calculate_se(p_hat, n)\n",
    "z_score =( x-p_hat)/se\n",
    "p_value =2* (1 - stats.norm.cdf(z_score))\n",
    "se, z_score,p_value\n"
   ]
  },
  {
   "cell_type": "code",
   "execution_count": 70,
   "id": "d3de5461-8d1e-46bf-9b48-5832fe1c2416",
   "metadata": {},
   "outputs": [
    {
     "data": {
      "text/plain": [
       "(1.6448536269514722, 0.006079568319117692, 347.14828059498234)"
      ]
     },
     "execution_count": 70,
     "metadata": {},
     "output_type": "execute_result"
    }
   ],
   "source": [
    "'''A manager is about to oversee the mass production of a new tire model in her factory, and she would\n",
    "like to estimate what proportion of these tires will be rejected through quality control. The quality\n",
    "control team has monitored the last three tire models produced by the factory, failing 1.7% of tires\n",
    "in the first model, 6.2% of the second model, and 1.3% of the third model. The manager would like\n",
    "to examine enough tires to estimate the failure rate of the new tire model to within about 1% with\n",
    "a 90% confidence level. There are three different failure rates to choose from. Perform the sample\n",
    "size computation for each separately, and identify three sample sizes to consider\n",
    "'''\n",
    "p_hat = 0.013  # population mean\n",
    "margin=0.01\n",
    "confidence=0.9\n",
    "#The norm.ppf function from scipy.stats computes the percent point function (inverse of the cumulative distribution function) for a given probability.\n",
    "z_score = norm.ppf(0.5+ confidence / 2)\n",
    "se=margin/z_score\n",
    "#se**2=(p_hat*(1-p_hat))/n\n",
    "n=(p_hat*(1-p_hat))/se**2\n",
    "\n",
    "z_score,se, n\n"
   ]
  },
  {
   "cell_type": "code",
   "execution_count": 73,
   "id": "0d63e619-e5a3-4a4b-afaf-3ffcf8690ae5",
   "metadata": {},
   "outputs": [
    {
     "data": {
      "text/plain": [
       "(1.959963984540054, 0.0255106728462327, 322.6825409383065)"
      ]
     },
     "execution_count": 73,
     "metadata": {},
     "output_type": "execute_result"
    }
   ],
   "source": [
    "'''\n",
    "we decide a wider margin of error of 5% for each individual survey would be acceptable. Based on\n",
    "the original sample of borrowers where 70% supported some form of regulation, how big should our\n",
    "monthly sample be for a margin of error of 0.05 with 95% confidence\n",
    "'''\n",
    "p_hat = 0.7  # population mean\n",
    "margin=0.05\n",
    "confidence=0.95\n",
    "#The norm.ppf function from scipy.stats computes the percent point function (inverse of the cumulative distribution function) for a given probability.\n",
    "z_score = norm.ppf(0.5+ confidence / 2)\n",
    "se=margin/z_score\n",
    "#se**2=(p_hat*(1-p_hat))/n\n",
    "n=(p_hat*(1-p_hat))/se**2\n",
    "\n",
    "z_score,se, n"
   ]
  },
  {
   "cell_type": "code",
   "execution_count": 76,
   "id": "87e1cd67-4548-4945-9470-dd92a76af8dc",
   "metadata": {},
   "outputs": [
    {
     "data": {
      "text/plain": [
       "(-0.004246710608608092,\n",
       " (-0.0014517763930541822, -0.007041644824162001),\n",
       " 0.0014260130479947562,\n",
       " 1.959963984540054)"
      ]
     },
     "execution_count": 76,
     "metadata": {},
     "output_type": "execute_result"
    }
   ],
   "source": [
    "'''\n",
    "A 5-year experiment was conducted to evaluate the effectiveness of fish oils on reducing cardiovascular\n",
    "events, where each subject was randomized into one of two treatment groups. We’ll consider heart\n",
    "attack outcomes in these patients:\n",
    "heart attack no event Total\n",
    "fish oil 145 12788 12933\n",
    "placebo 200 12738 12938\n",
    "Create a 95% confidence interval for the effect of fish oils on heart attacks for patients who are\n",
    "well-represented by those in the study. Also interpret the interval in the context of the study.\n",
    "'''\n",
    "p_f=145/12933\n",
    "p_p=200/12938\n",
    "\n",
    "p_hat = p_f-p_p  # sample mean\n",
    "\n",
    "n_f=12933     # Sample size\n",
    "n_p=12938\n",
    "\n",
    "var = (p_f*(1-p_f))/n_f  + (p_p*(1-p_p))/n_p\n",
    "se = var**(1/2)\n",
    "\n",
    "confidence=0.95\n",
    "#The norm.ppf function from scipy.stats computes the percent point function (inverse of the cumulative distribution function) for a given probability.\n",
    "z_score = norm.ppf(0.5+ confidence / 2)\n",
    "\n",
    "interval=calculate_interval(p_hat,z_score, se)\n",
    "p_hat,interval,se, z_score\n"
   ]
  },
  {
   "cell_type": "code",
   "execution_count": 77,
   "id": "6d14c2c5-2558-40db-b468-554e34c90a40",
   "metadata": {},
   "outputs": [
    {
     "data": {
      "text/plain": [
       "(33.0, 24.75)"
      ]
     },
     "execution_count": 77,
     "metadata": {},
     "output_type": "execute_result"
    }
   ],
   "source": [
    "'''\n",
    "Race White Black Hispanic Other Total\n",
    "Representation in juries 205 26 25 19 275\n",
    "Registered voters 0.72 0.07 0.12 0.09 1.00\n",
    "Twelve percent of the population is Hispanic and 9% represent other races. How many of the 275\n",
    "jurors would we expect to be Hispanic or from another race?\n",
    "'''\n",
    "popu=275\n",
    "0.12*popu,0.09*popu"
   ]
  },
  {
   "cell_type": "code",
   "execution_count": 78,
   "id": "86659a81-7c95-4bb6-9e12-f2861479456d",
   "metadata": {},
   "outputs": [
    {
     "name": "stdout",
     "output_type": "stream",
     "text": [
      "The tail area for a chi-square distribution with 2 degrees of freedom and a bound at 4.3 is 0.1165\n"
     ]
    }
   ],
   "source": [
    "'''\n",
    "shows the upper tail of a chi-square distribution with 2 degrees of freedom. The bound\n",
    "for this upper tail is at 4.3. Find the tail area.\n",
    "'''\n",
    "import scipy.stats as stats\n",
    "\n",
    "# Parameters\n",
    "df = 2  # degrees of freedom\n",
    "bound = 4.3\n",
    "\n",
    "# Calculate the upper tail area\n",
    "'''\n",
    "In the context of statistical functions provided by libraries like scipy.stats, sf stands for \"survival function.\" The survival function is the complement of the cumulative distribution function (CDF) and represents the probability that a random variable exceeds a certain value. Mathematically, it can be expressed as:\n",
    "\n",
    "[ \\text{SF}(x) = 1 - \\text{CDF}(x) ]\n",
    "\n",
    "So, when you use stats.chi2.sf(x, df), it computes the probability that a chi-square random variable with df degrees of freedom is greater than x. This is particularly useful for finding p-values in hypothesis testing.\n",
    "\n",
    "Here's a brief summary of key functions:\n",
    "\n",
    "PDF (Probability Density Function): Describes the likelihood of a random variable taking on a specific value.\n",
    "CDF (Cumulative Distribution Function): Represents the probability that a random variable takes on a value less than or equal to a specific value.\n",
    "SF (Survival Function): Represents the probability that a random variable takes on a value greater than a specific value. It is computed as (1 - \\text{CDF}(x)).\n",
    "In practice, using the survival function is often convenient for calculating upper tail probabilities directly.\n",
    "'''\n",
    "tail_area = stats.chi2.sf(bound, df)\n",
    "\n",
    "print(f\"The tail area for a chi-square distribution with {df} degrees of freedom and a bound at {bound} is {tail_area:.4f}\")\n"
   ]
  },
  {
   "cell_type": "code",
   "execution_count": 86,
   "id": "e22d6a97-634a-4924-ae8a-56a138f09233",
   "metadata": {},
   "outputs": [
    {
     "data": {
      "image/png": "[encoded data removed]",
      "text/plain": [
       "<Figure size 640x480 with 1 Axes>"
      ]
     },
     "metadata": {},
     "output_type": "display_data"
    }
   ],
   "source": [
    "import numpy as np\n",
    "import matplotlib.pyplot as plt\n",
    "import scipy.stats as stats\n",
    "\n",
    "# Parameters\n",
    "df = 3  # degrees of freedom\n",
    "bound =  5.89\n",
    "\n",
    "# Generate x values\n",
    "x = np.linspace(0, 10, 500)\n",
    "\n",
    "# Calculate the chi-square PDF (Probability density function )  values\n",
    "pdf_values = stats.chi2.pdf(x, df)\n",
    "\n",
    "# Plot the chi-square distribution\n",
    "plt.plot(x, pdf_values, label='Chi-square PDF', color='blue')\n",
    "\n",
    "# Shade the upper tail area\n",
    "x_fill = x[x >= bound]\n",
    "y_fill = stats.chi2.pdf(x_fill, df)\n",
    "plt.fill_between(x_fill, y_fill, color='red', alpha=0.5, label='Upper Tail Area')\n",
    "\n",
    "# Add labels and legend\n",
    "plt.xlabel('x')\n",
    "plt.ylabel('Probability Density')\n",
    "plt.title(f'Chi-square Distribution with {df} Degrees of Freedom')\n",
    "plt.legend()\n",
    "\n",
    "# Show plot\n",
    "plt.grid(True)\n",
    "plt.show()"
   ]
  },
  {
   "cell_type": "code",
   "execution_count": 87,
   "id": "e94b4379-14ae-4399-b107-d6d17b7f8dea",
   "metadata": {},
   "outputs": [
    {
     "name": "stdout",
     "output_type": "stream",
     "text": [
      "The tail area for a chi-square distribution with 3 degrees of freedom and a bound at 5.89 is 0.1171\n"
     ]
    }
   ],
   "source": [
    "# Calculate the upper tail area\n",
    "tail_area = stats.chi2.sf(bound, df)\n",
    "\n",
    "print(f\"The tail area for a chi-square distribution with {df} degrees of freedom and a bound at {bound} is {tail_area:.4f}\")"
   ]
  },
  {
   "cell_type": "code",
   "execution_count": 93,
   "id": "ff12a296-eba2-44e0-9c0f-c2a9703f85a6",
   "metadata": {},
   "outputs": [
    {
     "data": {
      "text/plain": [
       "([0.9098250336473755,\n",
       "  2.8431952662721893,\n",
       "  0.006493506493506494,\n",
       "  0.014285714285714285,\n",
       "  0.5,\n",
       "  0.0,\n",
       "  0.3333333333333333],\n",
       " 4.607132854032119,\n",
       " 0.5950932849625075)"
      ]
     },
     "execution_count": 93,
     "metadata": {},
     "output_type": "execute_result"
    }
   ],
   "source": [
    "'''\n",
    " evaluating whether a certain statistical model fits a data set. Daily stock returns from the S&P500 for 10 can\n",
    " be used to assess whether stock activity each day is independent of the stock’s behavior on previous\n",
    "days.  a chi-square test can be used to study\n",
    "the problem. We will label each day as Up or Down (D) depending on whether the market was up\n",
    "or down that day. For example, consider the following changes in price, their new labels of up and\n",
    "down, and then the number of days that must be observed before each Up day\n",
    "If the days really are independent, then the number of days until a positive trading day should follow\n",
    "a geometric distribution. The geometric distribution describes the probability of waiting for the k\n",
    "th\n",
    "trial to observe the first success. Here each up day (Up) represents a success, and down (D) days\n",
    "represent failures. In the data above, it took only one day until the market was up, so the first wait\n",
    "time was 1 day. It took two more days before we observed our next Up trading day, and two more\n",
    "for the third Up day. We would like to determine if these counts (1, 2, 2, 1, 4, and so on) follow\n",
    "the geometric distribution. Figure 6.10 shows the number of waiting days for a positive trading day\n",
    "during 10 years for the S&P500.\n",
    "Days 1 2 3 4 5 6 7+ Tota\n",
    "Days 1 2 3 4 5 6 7+ Total\n",
    "Observed 717 369 155 69 28 14 10 1362\n",
    "Geometric Model 743 338 154 70 32 14 12 1362\n",
    "\n",
    "The S&P500 was positive on 54.5% of those days.\n",
    "\n",
    " Distribution of the waiting time until a positive trading day. The\n",
    "expected counts based on the geometric model are shown in the last row. To\n",
    "find each expected count, we identify the probability of waiting D days based on\n",
    "the geometric model (P(D) = (1 − 0.545)D−1\n",
    "(0.545)) and multiply by the total\n",
    "number of streaks, 1362. For example, waiting for three days occurs under the\n",
    "geometric model about 0.4552 × 0.545 = 11.28% of the time, which corresponds to\n",
    "0.1128 × 1362 = 154 streaks.\n",
    "\n",
    "'''\n",
    "t=[717, 369, 155, 69,28, 14, 10]\n",
    "a=[743, 338, 154, 70, 32, 14, 12,]\n",
    "X=[]\n",
    "for i in range(len(t)):\n",
    "    x=(t[i]-a[i])**2/a[i]\n",
    "    X.append(x)\n",
    "\n",
    "\n",
    "tail_area = stats.chi2.sf(sum(X), 6)\n",
    "    \n",
    "X,sum(X),tail_area"
   ]
  },
  {
   "cell_type": "code",
   "execution_count": 94,
   "id": "654978e0-903d-4212-a17c-f4dfa09e3fc2",
   "metadata": {},
   "outputs": [
    {
     "name": "stdout",
     "output_type": "stream",
     "text": [
      "Expected Values:\n",
      "[[106.78969957 127.21030043]\n",
      " [105.8769671  126.1230329 ]\n",
      " [106.33333333 126.66666667]]\n"
     ]
    }
   ],
   "source": [
    "'''\n",
    "Figure 6.17 summarizes the results of an experiment evaluating three treatments for Type 2 Diabetes\n",
    "in patients aged 10-17 who were being treated with metformin. The three treatments considered\n",
    "were continued treatment with metformin (met), treatment with metformin combined with rosigli\u0002tazone (rosi), or a lifestyle intervention program. Each patient had a primary outcome, which was\n",
    "either lacked glycemic control (failure) or did not lack that control (success). What are appropriate\n",
    "hypotheses for this test?\n",
    "H0: There is no difference in the effectiveness of the three treatments.\n",
    "HA: There is some difference in effectiveness between the three treatments, e.g. perhaps the rosi\n",
    "treatment performed better than lifestyle.\n",
    "Failure Success Total\n",
    "lifestyle 109 125 234\n",
    "met 120 112 232\n",
    "rosi 90 143 233\n",
    "Total 319 380 699\n",
    "'''\n",
    "import numpy as np\n",
    "\n",
    "# Given data\n",
    "observed = np.array([\n",
    "    [109, 125],\n",
    "    [120, 112],\n",
    "    [90, 143]\n",
    "])\n",
    "\n",
    "# Totals\n",
    "row_totals = np.array([234, 232, 233])\n",
    "column_totals = np.array([319, 380])\n",
    "grand_total = 699\n",
    "\n",
    "# Calculate expected values\n",
    "expected = np.outer(row_totals, column_totals) / grand_total\n",
    "\n",
    "print(\"Expected Values:\")\n",
    "print(expected)\n",
    "\n"
   ]
  },
  {
   "cell_type": "code",
   "execution_count": 104,
   "id": "ec5e15e5-c8f8-4805-879c-b8b754c0dd71",
   "metadata": {},
   "outputs": [
    {
     "data": {
      "text/plain": [
       "(array([[0.04574812, 0.03840434],\n",
       "        [1.88388527, 1.58147211],\n",
       "        [2.50888192, 2.10614035]]),\n",
       " 8.164532108794889,\n",
       " 0.0168691957929816)"
      ]
     },
     "execution_count": 104,
     "metadata": {},
     "output_type": "execute_result"
    }
   ],
   "source": [
    "E=(observed-expected)**2/expected\n",
    "tail_area = stats.chi2.sf(np.sum(E), 2)\n",
    "E,np.sum(E),tail_area\n"
   ]
  },
  {
   "cell_type": "code",
   "execution_count": null,
   "id": "0c709859-f9dc-4f75-844b-eb8602838cbe",
   "metadata": {},
   "outputs": [],
   "source": []
  },
  {
   "cell_type": "code",
   "execution_count": 82,
   "id": "2e1ee6b1-7d23-495d-88ed-accef3dda2a1",
   "metadata": {},
   "outputs": [
    {
     "name": "stdout",
     "output_type": "stream",
     "text": [
      "Help on method pdf in module scipy.stats._distn_infrastructure:\n",
      "\n",
      "pdf(x, *args, **kwds) method of scipy.stats._continuous_distns.chi2_gen instance\n",
      "    Probability density function at x of the given RV.\n",
      "\n",
      "    Parameters\n",
      "    ----------\n",
      "    x : array_like\n",
      "        quantiles\n",
      "    arg1, arg2, arg3,... : array_like\n",
      "        The shape parameter(s) for the distribution (see docstring of the\n",
      "        instance object for more information)\n",
      "    loc : array_like, optional\n",
      "        location parameter (default=0)\n",
      "    scale : array_like, optional\n",
      "        scale parameter (default=1)\n",
      "\n",
      "    Returns\n",
      "    -------\n",
      "    pdf : ndarray\n",
      "        Probability density function evaluated at x\n",
      "\n"
     ]
    }
   ],
   "source": [
    "help(stats.chi2.pdf)"
   ]
  },
  {
   "cell_type": "code",
   "execution_count": 81,
   "id": "ec3a850e-d803-4a1c-a033-03338da947c4",
   "metadata": {},
   "outputs": [
    {
     "name": "stdout",
     "output_type": "stream",
     "text": [
      "Help on _ArrayFunctionDispatcher in module numpy:\n",
      "\n",
      "linspace(start, stop, num=50, endpoint=True, retstep=False, dtype=None, axis=0)\n",
      "    Return evenly spaced numbers over a specified interval.\n",
      "\n",
      "    Returns `num` evenly spaced samples, calculated over the\n",
      "    interval [`start`, `stop`].\n",
      "\n",
      "    The endpoint of the interval can optionally be excluded.\n",
      "\n",
      "    .. versionchanged:: 1.16.0\n",
      "        Non-scalar `start` and `stop` are now supported.\n",
      "\n",
      "    .. versionchanged:: 1.20.0\n",
      "        Values are rounded towards ``-inf`` instead of ``0`` when an\n",
      "        integer ``dtype`` is specified. The old behavior can\n",
      "        still be obtained with ``np.linspace(start, stop, num).astype(int)``\n",
      "\n",
      "    Parameters\n",
      "    ----------\n",
      "    start : array_like\n",
      "        The starting value of the sequence.\n",
      "    stop : array_like\n",
      "        The end value of the sequence, unless `endpoint` is set to False.\n",
      "        In that case, the sequence consists of all but the last of ``num + 1``\n",
      "        evenly spaced samples, so that `stop` is excluded.  Note that the step\n",
      "        size changes when `endpoint` is False.\n",
      "    num : int, optional\n",
      "        Number of samples to generate. Default is 50. Must be non-negative.\n",
      "    endpoint : bool, optional\n",
      "        If True, `stop` is the last sample. Otherwise, it is not included.\n",
      "        Default is True.\n",
      "    retstep : bool, optional\n",
      "        If True, return (`samples`, `step`), where `step` is the spacing\n",
      "        between samples.\n",
      "    dtype : dtype, optional\n",
      "        The type of the output array.  If `dtype` is not given, the data type\n",
      "        is inferred from `start` and `stop`. The inferred dtype will never be\n",
      "        an integer; `float` is chosen even if the arguments would produce an\n",
      "        array of integers.\n",
      "\n",
      "        .. versionadded:: 1.9.0\n",
      "\n",
      "    axis : int, optional\n",
      "        The axis in the result to store the samples.  Relevant only if start\n",
      "        or stop are array-like.  By default (0), the samples will be along a\n",
      "        new axis inserted at the beginning. Use -1 to get an axis at the end.\n",
      "\n",
      "        .. versionadded:: 1.16.0\n",
      "\n",
      "    Returns\n",
      "    -------\n",
      "    samples : ndarray\n",
      "        There are `num` equally spaced samples in the closed interval\n",
      "        ``[start, stop]`` or the half-open interval ``[start, stop)``\n",
      "        (depending on whether `endpoint` is True or False).\n",
      "    step : float, optional\n",
      "        Only returned if `retstep` is True\n",
      "\n",
      "        Size of spacing between samples.\n",
      "\n",
      "\n",
      "    See Also\n",
      "    --------\n",
      "    arange : Similar to `linspace`, but uses a step size (instead of the\n",
      "             number of samples).\n",
      "    geomspace : Similar to `linspace`, but with numbers spaced evenly on a log\n",
      "                scale (a geometric progression).\n",
      "    logspace : Similar to `geomspace`, but with the end points specified as\n",
      "               logarithms.\n",
      "    :ref:`how-to-partition`\n",
      "\n",
      "    Examples\n",
      "    --------\n",
      "    >>> np.linspace(2.0, 3.0, num=5)\n",
      "    array([2.  , 2.25, 2.5 , 2.75, 3.  ])\n",
      "    >>> np.linspace(2.0, 3.0, num=5, endpoint=False)\n",
      "    array([2. ,  2.2,  2.4,  2.6,  2.8])\n",
      "    >>> np.linspace(2.0, 3.0, num=5, retstep=True)\n",
      "    (array([2.  ,  2.25,  2.5 ,  2.75,  3.  ]), 0.25)\n",
      "\n",
      "    Graphical illustration:\n",
      "\n",
      "    >>> import matplotlib.pyplot as plt\n",
      "    >>> N = 8\n",
      "    >>> y = np.zeros(N)\n",
      "    >>> x1 = np.linspace(0, 10, N, endpoint=True)\n",
      "    >>> x2 = np.linspace(0, 10, N, endpoint=False)\n",
      "    >>> plt.plot(x1, y, 'o')\n",
      "    [<matplotlib.lines.Line2D object at 0x...>]\n",
      "    >>> plt.plot(x2, y + 0.5, 'o')\n",
      "    [<matplotlib.lines.Line2D object at 0x...>]\n",
      "    >>> plt.ylim([-0.5, 1])\n",
      "    (-0.5, 1)\n",
      "    >>> plt.show()\n",
      "\n"
     ]
    }
   ],
   "source": [
    "help(np.linspace)"
   ]
  },
  {
   "cell_type": "code",
   "execution_count": 48,
   "id": "5f062d72-aaa7-49c5-a7d5-2ddb6a461f4c",
   "metadata": {},
   "outputs": [],
   "source": [
    "#reference"
   ]
  },
  {
   "cell_type": "code",
   "execution_count": 19,
   "id": "8bcc5d5b-47c8-42b5-95a0-4cdc35b6c229",
   "metadata": {},
   "outputs": [
    {
     "data": {
      "text/plain": [
       "array([2, 1, 4])"
      ]
     },
     "execution_count": 19,
     "metadata": {},
     "output_type": "execute_result"
    }
   ],
   "source": [
    "np.random.choice(5, size=3,replace=False)"
   ]
  },
  {
   "cell_type": "code",
   "execution_count": 15,
   "id": "fbbdbe3a-11cb-407b-a61d-4c12a9d73379",
   "metadata": {},
   "outputs": [
    {
     "name": "stdout",
     "output_type": "stream",
     "text": [
      "Help on built-in function choice:\n",
      "\n",
      "choice(...) method of numpy.random.mtrand.RandomState instance\n",
      "    choice(a, size=None, replace=True, p=None)\n",
      "\n",
      "    Generates a random sample from a given 1-D array\n",
      "\n",
      "    .. versionadded:: 1.7.0\n",
      "\n",
      "    .. note::\n",
      "        New code should use the `~numpy.random.Generator.choice`\n",
      "        method of a `~numpy.random.Generator` instance instead;\n",
      "        please see the :ref:`random-quick-start`.\n",
      "\n",
      "    Parameters\n",
      "    ----------\n",
      "    a : 1-D array-like or int\n",
      "        If an ndarray, a random sample is generated from its elements.\n",
      "        If an int, the random sample is generated as if it were ``np.arange(a)``\n",
      "    size : int or tuple of ints, optional\n",
      "        Output shape.  If the given shape is, e.g., ``(m, n, k)``, then\n",
      "        ``m * n * k`` samples are drawn.  Default is None, in which case a\n",
      "        single value is returned.\n",
      "    replace : boolean, optional\n",
      "        Whether the sample is with or without replacement. Default is True,\n",
      "        meaning that a value of ``a`` can be selected multiple times.\n",
      "    p : 1-D array-like, optional\n",
      "        The probabilities associated with each entry in a.\n",
      "        If not given, the sample assumes a uniform distribution over all\n",
      "        entries in ``a``.\n",
      "\n",
      "    Returns\n",
      "    -------\n",
      "    samples : single item or ndarray\n",
      "        The generated random samples\n",
      "\n",
      "    Raises\n",
      "    ------\n",
      "    ValueError\n",
      "        If a is an int and less than zero, if a or p are not 1-dimensional,\n",
      "        if a is an array-like of size 0, if p is not a vector of\n",
      "        probabilities, if a and p have different lengths, or if\n",
      "        replace=False and the sample size is greater than the population\n",
      "        size\n",
      "\n",
      "    See Also\n",
      "    --------\n",
      "    randint, shuffle, permutation\n",
      "    random.Generator.choice: which should be used in new code\n",
      "\n",
      "    Notes\n",
      "    -----\n",
      "    Setting user-specified probabilities through ``p`` uses a more general but less\n",
      "    efficient sampler than the default. The general sampler produces a different sample\n",
      "    than the optimized sampler even if each element of ``p`` is 1 / len(a).\n",
      "\n",
      "    Sampling random rows from a 2-D array is not possible with this function,\n",
      "    but is possible with `Generator.choice` through its ``axis`` keyword.\n",
      "\n",
      "    Examples\n",
      "    --------\n",
      "    Generate a uniform random sample from np.arange(5) of size 3:\n",
      "\n",
      "    >>> np.random.choice(5, 3)\n",
      "    array([0, 3, 4]) # random\n",
      "    >>> #This is equivalent to np.random.randint(0,5,3)\n",
      "\n",
      "    Generate a non-uniform random sample from np.arange(5) of size 3:\n",
      "\n",
      "    >>> np.random.choice(5, 3, p=[0.1, 0, 0.3, 0.6, 0])\n",
      "    array([3, 3, 0]) # random\n",
      "\n",
      "    Generate a uniform random sample from np.arange(5) of size 3 without\n",
      "    replacement:\n",
      "\n",
      "    >>> np.random.choice(5, 3, replace=False)\n",
      "    array([3,1,0]) # random\n",
      "    >>> #This is equivalent to np.random.permutation(np.arange(5))[:3]\n",
      "\n",
      "    Generate a non-uniform random sample from np.arange(5) of size\n",
      "    3 without replacement:\n",
      "\n",
      "    >>> np.random.choice(5, 3, replace=False, p=[0.1, 0, 0.3, 0.6, 0])\n",
      "    array([2, 3, 0]) # random\n",
      "\n",
      "    Any of the above can be repeated with an arbitrary array-like\n",
      "    instead of just integers. For instance:\n",
      "\n",
      "    >>> aa_milne_arr = ['pooh', 'rabbit', 'piglet', 'Christopher']\n",
      "    >>> np.random.choice(aa_milne_arr, 5, p=[0.5, 0.1, 0.1, 0.3])\n",
      "    array(['pooh', 'pooh', 'pooh', 'Christopher', 'piglet'], # random\n",
      "          dtype='<U11')\n",
      "\n"
     ]
    }
   ],
   "source": [
    "help(np.random.choice)"
   ]
  }
 ],
 "metadata": {
  "kernelspec": {
   "display_name": "Python 3 (ipykernel)",
   "language": "python",
   "name": "python3"
  },
  "language_info": {
   "codemirror_mode": {
    "name": "ipython",
    "version": 3
   },
   "file_extension": ".py",
   "mimetype": "text/x-python",
   "name": "python",
   "nbconvert_exporter": "python",
   "pygments_lexer": "ipython3",
   "version": "3.12.7"
  }
 },
 "nbformat": 4,
 "nbformat_minor": 5
}
